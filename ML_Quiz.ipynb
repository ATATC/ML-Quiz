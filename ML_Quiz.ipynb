{
 "cells": [
  {
   "cell_type": "markdown",
   "source": [
    "# ML-Quiz\n",
    "## Environment Setup"
   ],
   "metadata": {
    "id": "gP8wcop4I9Au"
   }
  },
  {
   "cell_type": "code",
   "execution_count": 1,
   "metadata": {
    "id": "_tpDf0MGt4Hk",
    "colab": {
     "base_uri": "https://localhost:8080/"
    },
    "outputId": "586be75d-c01d-4f60-d34b-eab1d6242219"
   },
   "outputs": [
    {
     "output_type": "stream",
     "name": "stdout",
     "text": [
      "Looking in indexes: https://download.pytorch.org/whl/cu121\n",
      "Requirement already satisfied: torch in /usr/local/lib/python3.10/dist-packages (2.3.0+cu121)\n",
      "Requirement already satisfied: torchvision in /usr/local/lib/python3.10/dist-packages (0.18.0+cu121)\n",
      "Requirement already satisfied: torchaudio in /usr/local/lib/python3.10/dist-packages (2.3.0+cu121)\n",
      "Requirement already satisfied: filelock in /usr/local/lib/python3.10/dist-packages (from torch) (3.14.0)\n",
      "Requirement already satisfied: typing-extensions>=4.8.0 in /usr/local/lib/python3.10/dist-packages (from torch) (4.12.2)\n",
      "Requirement already satisfied: sympy in /usr/local/lib/python3.10/dist-packages (from torch) (1.12.1)\n",
      "Requirement already satisfied: networkx in /usr/local/lib/python3.10/dist-packages (from torch) (3.3)\n",
      "Requirement already satisfied: jinja2 in /usr/local/lib/python3.10/dist-packages (from torch) (3.1.4)\n",
      "Requirement already satisfied: fsspec in /usr/local/lib/python3.10/dist-packages (from torch) (2023.6.0)\n",
      "Collecting nvidia-cuda-nvrtc-cu12==12.1.105 (from torch)\n",
      "  Downloading https://download.pytorch.org/whl/cu121/nvidia_cuda_nvrtc_cu12-12.1.105-py3-none-manylinux1_x86_64.whl (23.7 MB)\n",
      "\u001B[2K     \u001B[90m━━━━━━━━━━━━━━━━━━━━━━━━━━━━━━━━━━━━━━━━\u001B[0m \u001B[32m23.7/23.7 MB\u001B[0m \u001B[31m56.5 MB/s\u001B[0m eta \u001B[36m0:00:00\u001B[0m\n",
      "\u001B[?25hCollecting nvidia-cuda-runtime-cu12==12.1.105 (from torch)\n",
      "  Downloading https://download.pytorch.org/whl/cu121/nvidia_cuda_runtime_cu12-12.1.105-py3-none-manylinux1_x86_64.whl (823 kB)\n",
      "\u001B[2K     \u001B[90m━━━━━━━━━━━━━━━━━━━━━━━━━━━━━━━━━━━━━━━━\u001B[0m \u001B[32m823.6/823.6 kB\u001B[0m \u001B[31m55.6 MB/s\u001B[0m eta \u001B[36m0:00:00\u001B[0m\n",
      "\u001B[?25hCollecting nvidia-cuda-cupti-cu12==12.1.105 (from torch)\n",
      "  Downloading https://download.pytorch.org/whl/cu121/nvidia_cuda_cupti_cu12-12.1.105-py3-none-manylinux1_x86_64.whl (14.1 MB)\n",
      "\u001B[2K     \u001B[90m━━━━━━━━━━━━━━━━━━━━━━━━━━━━━━━━━━━━━━━━\u001B[0m \u001B[32m14.1/14.1 MB\u001B[0m \u001B[31m81.0 MB/s\u001B[0m eta \u001B[36m0:00:00\u001B[0m\n",
      "\u001B[?25hCollecting nvidia-cudnn-cu12==8.9.2.26 (from torch)\n",
      "  Downloading https://download.pytorch.org/whl/cu121/nvidia_cudnn_cu12-8.9.2.26-py3-none-manylinux1_x86_64.whl (731.7 MB)\n",
      "\u001B[2K     \u001B[90m━━━━━━━━━━━━━━━━━━━━━━━━━━━━━━━━━━━━━━━━\u001B[0m \u001B[32m731.7/731.7 MB\u001B[0m \u001B[31m2.5 MB/s\u001B[0m eta \u001B[36m0:00:00\u001B[0m\n",
      "\u001B[?25hCollecting nvidia-cublas-cu12==12.1.3.1 (from torch)\n",
      "  Downloading https://download.pytorch.org/whl/cu121/nvidia_cublas_cu12-12.1.3.1-py3-none-manylinux1_x86_64.whl (410.6 MB)\n",
      "\u001B[2K     \u001B[90m━━━━━━━━━━━━━━━━━━━━━━━━━━━━━━━━━━━━━━━━\u001B[0m \u001B[32m410.6/410.6 MB\u001B[0m \u001B[31m3.2 MB/s\u001B[0m eta \u001B[36m0:00:00\u001B[0m\n",
      "\u001B[?25hCollecting nvidia-cufft-cu12==11.0.2.54 (from torch)\n",
      "  Downloading https://download.pytorch.org/whl/cu121/nvidia_cufft_cu12-11.0.2.54-py3-none-manylinux1_x86_64.whl (121.6 MB)\n",
      "\u001B[2K     \u001B[90m━━━━━━━━━━━━━━━━━━━━━━━━━━━━━━━━━━━━━━━━\u001B[0m \u001B[32m121.6/121.6 MB\u001B[0m \u001B[31m14.2 MB/s\u001B[0m eta \u001B[36m0:00:00\u001B[0m\n",
      "\u001B[?25hCollecting nvidia-curand-cu12==10.3.2.106 (from torch)\n",
      "  Downloading https://download.pytorch.org/whl/cu121/nvidia_curand_cu12-10.3.2.106-py3-none-manylinux1_x86_64.whl (56.5 MB)\n",
      "\u001B[2K     \u001B[90m━━━━━━━━━━━━━━━━━━━━━━━━━━━━━━━━━━━━━━━━\u001B[0m \u001B[32m56.5/56.5 MB\u001B[0m \u001B[31m30.4 MB/s\u001B[0m eta \u001B[36m0:00:00\u001B[0m\n",
      "\u001B[?25hCollecting nvidia-cusolver-cu12==11.4.5.107 (from torch)\n",
      "  Downloading https://download.pytorch.org/whl/cu121/nvidia_cusolver_cu12-11.4.5.107-py3-none-manylinux1_x86_64.whl (124.2 MB)\n",
      "\u001B[2K     \u001B[90m━━━━━━━━━━━━━━━━━━━━━━━━━━━━━━━━━━━━━━━━\u001B[0m \u001B[32m124.2/124.2 MB\u001B[0m \u001B[31m7.9 MB/s\u001B[0m eta \u001B[36m0:00:00\u001B[0m\n",
      "\u001B[?25hCollecting nvidia-cusparse-cu12==12.1.0.106 (from torch)\n",
      "  Downloading https://download.pytorch.org/whl/cu121/nvidia_cusparse_cu12-12.1.0.106-py3-none-manylinux1_x86_64.whl (196.0 MB)\n",
      "\u001B[2K     \u001B[90m━━━━━━━━━━━━━━━━━━━━━━━━━━━━━━━━━━━━━━━━\u001B[0m \u001B[32m196.0/196.0 MB\u001B[0m \u001B[31m3.8 MB/s\u001B[0m eta \u001B[36m0:00:00\u001B[0m\n",
      "\u001B[?25hCollecting nvidia-nccl-cu12==2.20.5 (from torch)\n",
      "  Downloading https://download.pytorch.org/whl/cu121/nvidia_nccl_cu12-2.20.5-py3-none-manylinux2014_x86_64.whl (176.2 MB)\n",
      "\u001B[2K     \u001B[90m━━━━━━━━━━━━━━━━━━━━━━━━━━━━━━━━━━━━━━━━\u001B[0m \u001B[32m176.2/176.2 MB\u001B[0m \u001B[31m6.7 MB/s\u001B[0m eta \u001B[36m0:00:00\u001B[0m\n",
      "\u001B[?25hCollecting nvidia-nvtx-cu12==12.1.105 (from torch)\n",
      "  Downloading https://download.pytorch.org/whl/cu121/nvidia_nvtx_cu12-12.1.105-py3-none-manylinux1_x86_64.whl (99 kB)\n",
      "\u001B[2K     \u001B[90m━━━━━━━━━━━━━━━━━━━━━━━━━━━━━━━━━━━━━━━━\u001B[0m \u001B[32m99.1/99.1 kB\u001B[0m \u001B[31m14.9 MB/s\u001B[0m eta \u001B[36m0:00:00\u001B[0m\n",
      "\u001B[?25hRequirement already satisfied: triton==2.3.0 in /usr/local/lib/python3.10/dist-packages (from torch) (2.3.0)\n",
      "Collecting nvidia-nvjitlink-cu12 (from nvidia-cusolver-cu12==11.4.5.107->torch)\n",
      "  Downloading https://download.pytorch.org/whl/cu121/nvidia_nvjitlink_cu12-12.1.105-py3-none-manylinux1_x86_64.whl (19.8 MB)\n",
      "\u001B[2K     \u001B[90m━━━━━━━━━━━━━━━━━━━━━━━━━━━━━━━━━━━━━━━━\u001B[0m \u001B[32m19.8/19.8 MB\u001B[0m \u001B[31m78.7 MB/s\u001B[0m eta \u001B[36m0:00:00\u001B[0m\n",
      "\u001B[?25hRequirement already satisfied: numpy in /usr/local/lib/python3.10/dist-packages (from torchvision) (1.25.2)\n",
      "Requirement already satisfied: pillow!=8.3.*,>=5.3.0 in /usr/local/lib/python3.10/dist-packages (from torchvision) (9.4.0)\n",
      "Requirement already satisfied: MarkupSafe>=2.0 in /usr/local/lib/python3.10/dist-packages (from jinja2->torch) (2.1.5)\n",
      "Requirement already satisfied: mpmath<1.4.0,>=1.1.0 in /usr/local/lib/python3.10/dist-packages (from sympy->torch) (1.3.0)\n",
      "Installing collected packages: nvidia-nvtx-cu12, nvidia-nvjitlink-cu12, nvidia-nccl-cu12, nvidia-curand-cu12, nvidia-cufft-cu12, nvidia-cuda-runtime-cu12, nvidia-cuda-nvrtc-cu12, nvidia-cuda-cupti-cu12, nvidia-cublas-cu12, nvidia-cusparse-cu12, nvidia-cudnn-cu12, nvidia-cusolver-cu12\n",
      "Successfully installed nvidia-cublas-cu12-12.1.3.1 nvidia-cuda-cupti-cu12-12.1.105 nvidia-cuda-nvrtc-cu12-12.1.105 nvidia-cuda-runtime-cu12-12.1.105 nvidia-cudnn-cu12-8.9.2.26 nvidia-cufft-cu12-11.0.2.54 nvidia-curand-cu12-10.3.2.106 nvidia-cusolver-cu12-11.4.5.107 nvidia-cusparse-cu12-12.1.0.106 nvidia-nccl-cu12-2.20.5 nvidia-nvjitlink-cu12-12.1.105 nvidia-nvtx-cu12-12.1.105\n"
     ]
    }
   ],
   "source": [
    "!pip3 install torch torchvision torchaudio --index-url https://download.pytorch.org/whl/cu121"
   ]
  },
  {
   "cell_type": "code",
   "execution_count": 2,
   "metadata": {
    "id": "zkbAnRU0viUH",
    "colab": {
     "base_uri": "https://localhost:8080/",
     "height": 1000
    },
    "outputId": "87b5a88d-67e7-4870-b98f-156fc0f34a49"
   },
   "outputs": [
    {
     "output_type": "stream",
     "name": "stdout",
     "text": [
      "\u001B[33mWARNING: Skipping batchgeneratorsv2 as it is not installed.\u001B[0m\u001B[33m\n",
      "\u001B[0m\u001B[33mWARNING: Skipping nnunetv2 as it is not installed.\u001B[0m\u001B[33m\n",
      "\u001B[0mCollecting git+https://github.com/ATATC/ML-Quiz-nnUNet.git\n",
      "  Cloning https://github.com/ATATC/ML-Quiz-nnUNet.git to /tmp/pip-req-build-uwujuq40\n",
      "  Running command git clone --filter=blob:none --quiet https://github.com/ATATC/ML-Quiz-nnUNet.git /tmp/pip-req-build-uwujuq40\n",
      "  Resolved https://github.com/ATATC/ML-Quiz-nnUNet.git to commit bbc85b1d6528ed770f1dd2ef66080f98149cc758\n",
      "  Installing build dependencies ... \u001B[?25l\u001B[?25hdone\n",
      "  Getting requirements to build wheel ... \u001B[?25l\u001B[?25hdone\n",
      "  Preparing metadata (pyproject.toml) ... \u001B[?25l\u001B[?25hdone\n",
      "Requirement already satisfied: torch>=2.1.2 in /usr/local/lib/python3.10/dist-packages (from nnunetv2==2.5) (2.3.0+cu121)\n",
      "Collecting acvl-utils<0.3,>=0.2 (from nnunetv2==2.5)\n",
      "  Downloading acvl_utils-0.2.tar.gz (18 kB)\n",
      "  Preparing metadata (setup.py) ... \u001B[?25l\u001B[?25hdone\n",
      "Collecting dynamic-network-architectures<0.4,>=0.3.1 (from nnunetv2==2.5)\n",
      "  Downloading dynamic_network_architectures-0.3.1.tar.gz (20 kB)\n",
      "  Preparing metadata (setup.py) ... \u001B[?25l\u001B[?25hdone\n",
      "Requirement already satisfied: tqdm in /usr/local/lib/python3.10/dist-packages (from nnunetv2==2.5) (4.66.4)\n",
      "Collecting dicom2nifti (from nnunetv2==2.5)\n",
      "  Downloading dicom2nifti-2.4.11-py3-none-any.whl (43 kB)\n",
      "\u001B[2K     \u001B[90m━━━━━━━━━━━━━━━━━━━━━━━━━━━━━━━━━━━━━━━━\u001B[0m \u001B[32m43.6/43.6 kB\u001B[0m \u001B[31m3.4 MB/s\u001B[0m eta \u001B[36m0:00:00\u001B[0m\n",
      "\u001B[?25hRequirement already satisfied: scipy in /usr/local/lib/python3.10/dist-packages (from nnunetv2==2.5) (1.11.4)\n",
      "Collecting batchgenerators>=0.25 (from nnunetv2==2.5)\n",
      "  Downloading batchgenerators-0.25.tar.gz (61 kB)\n",
      "\u001B[2K     \u001B[90m━━━━━━━━━━━━━━━━━━━━━━━━━━━━━━━━━━━━━━━━\u001B[0m \u001B[32m61.7/61.7 kB\u001B[0m \u001B[31m7.4 MB/s\u001B[0m eta \u001B[36m0:00:00\u001B[0m\n",
      "\u001B[?25h  Preparing metadata (setup.py) ... \u001B[?25l\u001B[?25hdone\n",
      "Requirement already satisfied: numpy in /usr/local/lib/python3.10/dist-packages (from nnunetv2==2.5) (1.25.2)\n",
      "Requirement already satisfied: scikit-learn in /usr/local/lib/python3.10/dist-packages (from nnunetv2==2.5) (1.2.2)\n",
      "Requirement already satisfied: scikit-image>=0.19.3 in /usr/local/lib/python3.10/dist-packages (from nnunetv2==2.5) (0.19.3)\n",
      "Collecting SimpleITK>=2.2.1 (from nnunetv2==2.5)\n",
      "  Downloading SimpleITK-2.3.1-cp310-cp310-manylinux_2_17_x86_64.manylinux2014_x86_64.whl (52.7 MB)\n",
      "\u001B[2K     \u001B[90m━━━━━━━━━━━━━━━━━━━━━━━━━━━━━━━━━━━━━━━━\u001B[0m \u001B[32m52.7/52.7 MB\u001B[0m \u001B[31m32.5 MB/s\u001B[0m eta \u001B[36m0:00:00\u001B[0m\n",
      "\u001B[?25hRequirement already satisfied: pandas in /usr/local/lib/python3.10/dist-packages (from nnunetv2==2.5) (2.0.3)\n",
      "Requirement already satisfied: graphviz in /usr/local/lib/python3.10/dist-packages (from nnunetv2==2.5) (0.20.3)\n",
      "Requirement already satisfied: tifffile in /usr/local/lib/python3.10/dist-packages (from nnunetv2==2.5) (2024.5.22)\n",
      "Requirement already satisfied: requests in /usr/local/lib/python3.10/dist-packages (from nnunetv2==2.5) (2.31.0)\n",
      "Requirement already satisfied: nibabel in /usr/local/lib/python3.10/dist-packages (from nnunetv2==2.5) (4.0.2)\n",
      "Requirement already satisfied: matplotlib in /usr/local/lib/python3.10/dist-packages (from nnunetv2==2.5) (3.7.1)\n",
      "Requirement already satisfied: seaborn in /usr/local/lib/python3.10/dist-packages (from nnunetv2==2.5) (0.13.1)\n",
      "Collecting imagecodecs (from nnunetv2==2.5)\n",
      "  Downloading imagecodecs-2024.6.1-cp310-cp310-manylinux_2_17_x86_64.manylinux2014_x86_64.whl (39.5 MB)\n",
      "\u001B[2K     \u001B[90m━━━━━━━━━━━━━━━━━━━━━━━━━━━━━━━━━━━━━━━━\u001B[0m \u001B[32m39.5/39.5 MB\u001B[0m \u001B[31m44.4 MB/s\u001B[0m eta \u001B[36m0:00:00\u001B[0m\n",
      "\u001B[?25hCollecting yacs (from nnunetv2==2.5)\n",
      "  Downloading yacs-0.1.8-py3-none-any.whl (14 kB)\n",
      "Collecting batchgeneratorsv2 (from nnunetv2==2.5)\n",
      "  Downloading batchgeneratorsv2-0.1.1.tar.gz (32 kB)\n",
      "  Installing build dependencies ... \u001B[?25l\u001B[?25hdone\n",
      "  Getting requirements to build wheel ... \u001B[?25l\u001B[?25hdone\n",
      "  Preparing metadata (pyproject.toml) ... \u001B[?25l\u001B[?25hdone\n",
      "Collecting einops (from nnunetv2==2.5)\n",
      "  Downloading einops-0.8.0-py3-none-any.whl (43 kB)\n",
      "\u001B[2K     \u001B[90m━━━━━━━━━━━━━━━━━━━━━━━━━━━━━━━━━━━━━━━━\u001B[0m \u001B[32m43.2/43.2 kB\u001B[0m \u001B[31m5.5 MB/s\u001B[0m eta \u001B[36m0:00:00\u001B[0m\n",
      "\u001B[?25hCollecting connected-components-3d (from acvl-utils<0.3,>=0.2->nnunetv2==2.5)\n",
      "  Downloading connected_components_3d-3.16.1-cp310-cp310-manylinux_2_17_x86_64.manylinux2014_x86_64.whl (3.6 MB)\n",
      "\u001B[2K     \u001B[90m━━━━━━━━━━━━━━━━━━━━━━━━━━━━━━━━━━━━━━━━\u001B[0m \u001B[32m3.6/3.6 MB\u001B[0m \u001B[31m93.0 MB/s\u001B[0m eta \u001B[36m0:00:00\u001B[0m\n",
      "\u001B[?25hRequirement already satisfied: pillow>=7.1.2 in /usr/local/lib/python3.10/dist-packages (from batchgenerators>=0.25->nnunetv2==2.5) (9.4.0)\n",
      "Requirement already satisfied: future in /usr/local/lib/python3.10/dist-packages (from batchgenerators>=0.25->nnunetv2==2.5) (0.18.3)\n",
      "Collecting unittest2 (from batchgenerators>=0.25->nnunetv2==2.5)\n",
      "  Downloading unittest2-1.1.0-py2.py3-none-any.whl (96 kB)\n",
      "\u001B[2K     \u001B[90m━━━━━━━━━━━━━━━━━━━━━━━━━━━━━━━━━━━━━━━━\u001B[0m \u001B[32m96.4/96.4 kB\u001B[0m \u001B[31m12.2 MB/s\u001B[0m eta \u001B[36m0:00:00\u001B[0m\n",
      "\u001B[?25hRequirement already satisfied: threadpoolctl in /usr/local/lib/python3.10/dist-packages (from batchgenerators>=0.25->nnunetv2==2.5) (3.5.0)\n",
      "Requirement already satisfied: networkx>=2.2 in /usr/local/lib/python3.10/dist-packages (from scikit-image>=0.19.3->nnunetv2==2.5) (3.3)\n",
      "Requirement already satisfied: imageio>=2.4.1 in /usr/local/lib/python3.10/dist-packages (from scikit-image>=0.19.3->nnunetv2==2.5) (2.31.6)\n",
      "Requirement already satisfied: PyWavelets>=1.1.1 in /usr/local/lib/python3.10/dist-packages (from scikit-image>=0.19.3->nnunetv2==2.5) (1.6.0)\n",
      "Requirement already satisfied: packaging>=20.0 in /usr/local/lib/python3.10/dist-packages (from scikit-image>=0.19.3->nnunetv2==2.5) (24.1)\n",
      "Requirement already satisfied: filelock in /usr/local/lib/python3.10/dist-packages (from torch>=2.1.2->nnunetv2==2.5) (3.14.0)\n",
      "Requirement already satisfied: typing-extensions>=4.8.0 in /usr/local/lib/python3.10/dist-packages (from torch>=2.1.2->nnunetv2==2.5) (4.12.2)\n",
      "Requirement already satisfied: sympy in /usr/local/lib/python3.10/dist-packages (from torch>=2.1.2->nnunetv2==2.5) (1.12.1)\n",
      "Requirement already satisfied: jinja2 in /usr/local/lib/python3.10/dist-packages (from torch>=2.1.2->nnunetv2==2.5) (3.1.4)\n",
      "Requirement already satisfied: fsspec in /usr/local/lib/python3.10/dist-packages (from torch>=2.1.2->nnunetv2==2.5) (2023.6.0)\n",
      "Requirement already satisfied: nvidia-cuda-nvrtc-cu12==12.1.105 in /usr/local/lib/python3.10/dist-packages (from torch>=2.1.2->nnunetv2==2.5) (12.1.105)\n",
      "Requirement already satisfied: nvidia-cuda-runtime-cu12==12.1.105 in /usr/local/lib/python3.10/dist-packages (from torch>=2.1.2->nnunetv2==2.5) (12.1.105)\n",
      "Requirement already satisfied: nvidia-cuda-cupti-cu12==12.1.105 in /usr/local/lib/python3.10/dist-packages (from torch>=2.1.2->nnunetv2==2.5) (12.1.105)\n",
      "Requirement already satisfied: nvidia-cudnn-cu12==8.9.2.26 in /usr/local/lib/python3.10/dist-packages (from torch>=2.1.2->nnunetv2==2.5) (8.9.2.26)\n",
      "Requirement already satisfied: nvidia-cublas-cu12==12.1.3.1 in /usr/local/lib/python3.10/dist-packages (from torch>=2.1.2->nnunetv2==2.5) (12.1.3.1)\n",
      "Requirement already satisfied: nvidia-cufft-cu12==11.0.2.54 in /usr/local/lib/python3.10/dist-packages (from torch>=2.1.2->nnunetv2==2.5) (11.0.2.54)\n",
      "Requirement already satisfied: nvidia-curand-cu12==10.3.2.106 in /usr/local/lib/python3.10/dist-packages (from torch>=2.1.2->nnunetv2==2.5) (10.3.2.106)\n",
      "Requirement already satisfied: nvidia-cusolver-cu12==11.4.5.107 in /usr/local/lib/python3.10/dist-packages (from torch>=2.1.2->nnunetv2==2.5) (11.4.5.107)\n",
      "Requirement already satisfied: nvidia-cusparse-cu12==12.1.0.106 in /usr/local/lib/python3.10/dist-packages (from torch>=2.1.2->nnunetv2==2.5) (12.1.0.106)\n",
      "Requirement already satisfied: nvidia-nccl-cu12==2.20.5 in /usr/local/lib/python3.10/dist-packages (from torch>=2.1.2->nnunetv2==2.5) (2.20.5)\n",
      "Requirement already satisfied: nvidia-nvtx-cu12==12.1.105 in /usr/local/lib/python3.10/dist-packages (from torch>=2.1.2->nnunetv2==2.5) (12.1.105)\n",
      "Requirement already satisfied: triton==2.3.0 in /usr/local/lib/python3.10/dist-packages (from torch>=2.1.2->nnunetv2==2.5) (2.3.0)\n",
      "Requirement already satisfied: nvidia-nvjitlink-cu12 in /usr/local/lib/python3.10/dist-packages (from nvidia-cusolver-cu12==11.4.5.107->torch>=2.1.2->nnunetv2==2.5) (12.1.105)\n",
      "Collecting fft-conv-pytorch (from batchgeneratorsv2->nnunetv2==2.5)\n",
      "  Downloading fft_conv_pytorch-1.2.0-py3-none-any.whl (6.8 kB)\n",
      "Collecting pydicom>=2.2.0 (from dicom2nifti->nnunetv2==2.5)\n",
      "  Downloading pydicom-2.4.4-py3-none-any.whl (1.8 MB)\n",
      "\u001B[2K     \u001B[90m━━━━━━━━━━━━━━━━━━━━━━━━━━━━━━━━━━━━━━━━\u001B[0m \u001B[32m1.8/1.8 MB\u001B[0m \u001B[31m84.9 MB/s\u001B[0m eta \u001B[36m0:00:00\u001B[0m\n",
      "\u001B[?25hCollecting python-gdcm (from dicom2nifti->nnunetv2==2.5)\n",
      "  Downloading python_gdcm-3.0.24.1-cp310-cp310-manylinux_2_17_x86_64.manylinux2014_x86_64.whl (13.1 MB)\n",
      "\u001B[2K     \u001B[90m━━━━━━━━━━━━━━━━━━━━━━━━━━━━━━━━━━━━━━━━\u001B[0m \u001B[32m13.1/13.1 MB\u001B[0m \u001B[31m97.0 MB/s\u001B[0m eta \u001B[36m0:00:00\u001B[0m\n",
      "\u001B[?25hRequirement already satisfied: contourpy>=1.0.1 in /usr/local/lib/python3.10/dist-packages (from matplotlib->nnunetv2==2.5) (1.2.1)\n",
      "Requirement already satisfied: cycler>=0.10 in /usr/local/lib/python3.10/dist-packages (from matplotlib->nnunetv2==2.5) (0.12.1)\n",
      "Requirement already satisfied: fonttools>=4.22.0 in /usr/local/lib/python3.10/dist-packages (from matplotlib->nnunetv2==2.5) (4.53.0)\n",
      "Requirement already satisfied: kiwisolver>=1.0.1 in /usr/local/lib/python3.10/dist-packages (from matplotlib->nnunetv2==2.5) (1.4.5)\n",
      "Requirement already satisfied: pyparsing>=2.3.1 in /usr/local/lib/python3.10/dist-packages (from matplotlib->nnunetv2==2.5) (3.1.2)\n",
      "Requirement already satisfied: python-dateutil>=2.7 in /usr/local/lib/python3.10/dist-packages (from matplotlib->nnunetv2==2.5) (2.8.2)\n",
      "Requirement already satisfied: setuptools in /usr/local/lib/python3.10/dist-packages (from nibabel->nnunetv2==2.5) (67.7.2)\n",
      "Requirement already satisfied: pytz>=2020.1 in /usr/local/lib/python3.10/dist-packages (from pandas->nnunetv2==2.5) (2023.4)\n",
      "Requirement already satisfied: tzdata>=2022.1 in /usr/local/lib/python3.10/dist-packages (from pandas->nnunetv2==2.5) (2024.1)\n",
      "Requirement already satisfied: charset-normalizer<4,>=2 in /usr/local/lib/python3.10/dist-packages (from requests->nnunetv2==2.5) (3.3.2)\n",
      "Requirement already satisfied: idna<4,>=2.5 in /usr/local/lib/python3.10/dist-packages (from requests->nnunetv2==2.5) (3.7)\n",
      "Requirement already satisfied: urllib3<3,>=1.21.1 in /usr/local/lib/python3.10/dist-packages (from requests->nnunetv2==2.5) (2.0.7)\n",
      "Requirement already satisfied: certifi>=2017.4.17 in /usr/local/lib/python3.10/dist-packages (from requests->nnunetv2==2.5) (2024.6.2)\n",
      "Requirement already satisfied: joblib>=1.1.1 in /usr/local/lib/python3.10/dist-packages (from scikit-learn->nnunetv2==2.5) (1.4.2)\n",
      "Requirement already satisfied: PyYAML in /usr/local/lib/python3.10/dist-packages (from yacs->nnunetv2==2.5) (6.0.1)\n",
      "Requirement already satisfied: six>=1.5 in /usr/local/lib/python3.10/dist-packages (from python-dateutil>=2.7->matplotlib->nnunetv2==2.5) (1.16.0)\n",
      "Requirement already satisfied: MarkupSafe>=2.0 in /usr/local/lib/python3.10/dist-packages (from jinja2->torch>=2.1.2->nnunetv2==2.5) (2.1.5)\n",
      "Requirement already satisfied: mpmath<1.4.0,>=1.1.0 in /usr/local/lib/python3.10/dist-packages (from sympy->torch>=2.1.2->nnunetv2==2.5) (1.3.0)\n",
      "Collecting argparse (from unittest2->batchgenerators>=0.25->nnunetv2==2.5)\n",
      "  Downloading argparse-1.4.0-py2.py3-none-any.whl (23 kB)\n",
      "Collecting traceback2 (from unittest2->batchgenerators>=0.25->nnunetv2==2.5)\n",
      "  Downloading traceback2-1.4.0-py2.py3-none-any.whl (16 kB)\n",
      "Collecting linecache2 (from traceback2->unittest2->batchgenerators>=0.25->nnunetv2==2.5)\n",
      "  Downloading linecache2-1.0.0-py2.py3-none-any.whl (12 kB)\n",
      "Building wheels for collected packages: nnunetv2, acvl-utils, batchgenerators, dynamic-network-architectures, batchgeneratorsv2\n",
      "  Building wheel for nnunetv2 (pyproject.toml) ... \u001B[?25l\u001B[?25hdone\n",
      "  Created wheel for nnunetv2: filename=nnunetv2-2.5-py3-none-any.whl size=272737 sha256=d4447baf2da9e463db46f118c607234f680f9019106b4845d1a870f48762f1bf\n",
      "  Stored in directory: /tmp/pip-ephem-wheel-cache-dpc_qwt3/wheels/57/5b/ce/f9378624ddcade1a0b69b9324423816875f26fb4db56f27481\n",
      "  Building wheel for acvl-utils (setup.py) ... \u001B[?25l\u001B[?25hdone\n",
      "  Created wheel for acvl-utils: filename=acvl_utils-0.2-py3-none-any.whl size=22439 sha256=f0f358672939ce99eb49e6654a21aaed9067690ac76810e3517ad6b289b4e13a\n",
      "  Stored in directory: /root/.cache/pip/wheels/ad/f0/84/52e8897591e66339bd2796681b9540b6c5e453c1461fa92a9e\n",
      "  Building wheel for batchgenerators (setup.py) ... \u001B[?25l\u001B[?25hdone\n",
      "  Created wheel for batchgenerators: filename=batchgenerators-0.25-py3-none-any.whl size=89007 sha256=1d25ac330897cba9a843f562165caf3e63abae206fa2a21c02d9f6e9dd408f2d\n",
      "  Stored in directory: /root/.cache/pip/wheels/9e/b0/1b/40912fb58eb167b86cbc444ddb2e6ba382b248215295f932e2\n",
      "  Building wheel for dynamic-network-architectures (setup.py) ... \u001B[?25l\u001B[?25hdone\n",
      "  Created wheel for dynamic-network-architectures: filename=dynamic_network_architectures-0.3.1-py3-none-any.whl size=30049 sha256=b366dde38a3ce990fbf2a1d938e5b55d45d6a2d5d2225860098f5406e696063d\n",
      "  Stored in directory: /root/.cache/pip/wheels/55/1b/13/a6419c8dbf998b9343710355ec3edc5c8e24d9b7b22eec95fb\n",
      "  Building wheel for batchgeneratorsv2 (pyproject.toml) ... \u001B[?25l\u001B[?25hdone\n",
      "  Created wheel for batchgeneratorsv2: filename=batchgeneratorsv2-0.1.1-py3-none-any.whl size=43533 sha256=2f4dbfb9c7e387dd371e9636237d1528bf7d60c5ccfb8a78c1d03f6d8f3ef289\n",
      "  Stored in directory: /root/.cache/pip/wheels/86/6d/f1/6dc72a5516d434203da1a92c138e09a070a31cdff9bcaf1721\n",
      "Successfully built nnunetv2 acvl-utils batchgenerators dynamic-network-architectures batchgeneratorsv2\n",
      "Installing collected packages: SimpleITK, linecache2, argparse, yacs, traceback2, python-gdcm, pydicom, imagecodecs, einops, connected-components-3d, unittest2, dicom2nifti, batchgenerators, fft-conv-pytorch, dynamic-network-architectures, acvl-utils, batchgeneratorsv2, nnunetv2\n",
      "Successfully installed SimpleITK-2.3.1 acvl-utils-0.2 argparse-1.4.0 batchgenerators-0.25 batchgeneratorsv2-0.1.1 connected-components-3d-3.16.1 dicom2nifti-2.4.11 dynamic-network-architectures-0.3.1 einops-0.8.0 fft-conv-pytorch-1.2.0 imagecodecs-2024.6.1 linecache2-1.0.0 nnunetv2-2.5 pydicom-2.4.4 python-gdcm-3.0.24.1 traceback2-1.4.0 unittest2-1.1.0 yacs-0.1.8\n"
     ]
    },
    {
     "output_type": "display_data",
     "data": {
      "application/vnd.colab-display-data+json": {
       "pip_warning": {
        "packages": [
         "argparse"
        ]
       },
       "id": "ee677734a7e448e697664e5fc3eacafd"
      }
     },
     "metadata": {}
    }
   ],
   "source": [
    "!pip3 uninstall batchgeneratorsv2 nnunetv2 -y\n",
    "!pip3 install git+https://github.com/ATATC/ML-Quiz-nnUNet.git"
   ]
  },
  {
   "cell_type": "code",
   "execution_count": 1,
   "metadata": {
    "id": "UJY8uX5qwQCX",
    "colab": {
     "base_uri": "https://localhost:8080/"
    },
    "outputId": "b78caac2-d6ee-4587-9576-791d9244cf17"
   },
   "outputs": [
    {
     "output_type": "stream",
     "name": "stdout",
     "text": [
      "rm: cannot remove 'ML-Quiz': No such file or directory\n",
      "Cloning into 'ML-Quiz'...\n",
      "remote: Enumerating objects: 915, done.\u001B[K\n",
      "remote: Counting objects: 100% (3/3), done.\u001B[K\n",
      "remote: Compressing objects: 100% (3/3), done.\u001B[K\n",
      "remote: Total 915 (delta 0), reused 1 (delta 0), pack-reused 912\u001B[K\n",
      "Receiving objects: 100% (915/915), 80.92 MiB | 34.14 MiB/s, done.\n",
      "Resolving deltas: 100% (10/10), done.\n",
      "Updating files: 100% (747/747), done.\n",
      "renamed 'ML-Quiz/data' -> './data'\n",
      "renamed 'ML-Quiz/data.py' -> './data.py'\n",
      "renamed 'ML-Quiz/evaluate.py' -> './evaluate.py'\n",
      "renamed 'ML-Quiz/model.py' -> './model.py'\n",
      "renamed 'ML-Quiz/optimize.sh' -> './optimize.sh'\n",
      "renamed 'ML-Quiz/prepare.py' -> './prepare.py'\n",
      "renamed 'ML-Quiz/prepare.sh' -> './prepare.sh'\n",
      "renamed 'ML-Quiz/prepare_swin_unet.py' -> './prepare_swin_unet.py'\n",
      "renamed 'ML-Quiz/raw' -> './raw'\n",
      "renamed 'ML-Quiz/results' -> './results'\n",
      "renamed 'ML-Quiz/train.py' -> './train.py'\n",
      "renamed 'ML-Quiz/train.sh' -> './train.sh'\n",
      "renamed 'ML-Quiz/utils.py' -> './utils.py'\n"
     ]
    }
   ],
   "source": [
    "!rm -r ML-Quiz\n",
    "!rm -r ./*\n",
    "!git clone https://github.com/ATATC/ML-Quiz.git\n",
    "!mv -v ML-Quiz/* ./\n",
    "!mkdir raw/Dataset001_NAME1/imagesTr\n",
    "!mkdir raw/Dataset001_NAME1/labelsTr\n",
    "!mkdir preprocessed\n",
    "!mkdir weights"
   ]
  },
  {
   "cell_type": "markdown",
   "source": [
    "## Training"
   ],
   "metadata": {
    "id": "9jsSIOo7JC-g"
   }
  },
  {
   "cell_type": "code",
   "execution_count": null,
   "metadata": {
    "id": "2yUBe_kqx8H1"
   },
   "outputs": [],
   "source": [
    "from PIL import Image\n",
    "from shutil import copy\n",
    "\n",
    "\n",
    "def remove_alpha_channel(image: Image) -> Image:\n",
    "    if image.mode == 'RGBA':\n",
    "        background = Image.new(\"RGB\", image.size, (255, 255, 255))\n",
    "        background.paste(image, mask=image.split()[3])\n",
    "        return background\n",
    "    elif image.mode == 'LA':\n",
    "        background = Image.new(\"L\", image.size, 255)\n",
    "        background.paste(image, mask=image.split()[1])\n",
    "        return background\n",
    "    else:\n",
    "        return image.convert(\"RGB\")\n",
    "\n",
    "for i in range(158):\n",
    "    tiff_image = Image.open(f\"data/imagesTr/img_{(n := str(i).zfill(3))}.tiff\")\n",
    "    tiff_image = remove_alpha_channel(tiff_image)\n",
    "    tiff_image.save(f\"raw/Dataset001_NAME1/imagesTr/case_{n}_0000.png\", \"PNG\")\n",
    "\n",
    "for i in range(158, 231):\n",
    "    jpg_image = Image.open(f\"data/imagesTr/img_{(n := str(i).zfill(3))}.jpg\")\n",
    "    jpg_image = remove_alpha_channel(jpg_image)\n",
    "    jpg_image.save(f\"raw/Dataset001_NAME1/imagesTr/case_{n}_0000.png\", \"PNG\")\n",
    "\n",
    "for i in range(231):\n",
    "    copy(f\"data/labelsTr/img_{(n := str(i).zfill(3))}_label.png\", f\"raw/Dataset001_NAME1/labelsTr/case_{n}.png\")\n"
   ]
  },
  {
   "cell_type": "code",
   "execution_count": null,
   "metadata": {
    "id": "yCHawyK7RIy7"
   },
   "outputs": [],
   "source": [
    "%env nnUNet_raw=raw\n",
    "%env nnUNet_preprocessed=preprocessed\n",
    "%env nnUNet_results=weights\n",
    "!nnUNetv2_plan_and_preprocess -d 1 --verify_dataset_integrity -pl nnUNetPlannerResEncM"
   ]
  },
  {
   "cell_type": "code",
   "execution_count": null,
   "metadata": {
    "id": "LQBjQKsN8XRM"
   },
   "outputs": [],
   "source": [
    "%env nnUNet_raw=raw\n",
    "%env nnUNet_preprocessed=preprocessed\n",
    "%env nnUNet_results=weights\n",
    "!nnUNetv2_train 1 2d all -p nnUNetResEncUNetMPlans -device cuda --npz"
   ]
  },
  {
   "cell_type": "code",
   "execution_count": null,
   "metadata": {
    "id": "IMk_vqqYUn3h"
   },
   "outputs": [],
   "source": [
    "!zip -r weights.zip weights\n",
    "from google.colab import drive\n",
    "from shutil import move\n",
    "\n",
    "\n",
    "drive.mount('/content/drive')\n",
    "move(\"weights.zip\", \"/content/drive/MyDrive/weights.zip\")"
   ]
  },
  {
   "cell_type": "markdown",
   "source": [
    "## Prediction"
   ],
   "metadata": {
    "id": "S1vzY_kVJRF9"
   }
  },
  {
   "cell_type": "code",
   "source": [
    "from google.colab import drive\n",
    "from shutil import copy\n",
    "\n",
    "\n",
    "drive.mount('/content/drive')\n",
    "copy(\"/content/drive/MyDrive/weights.zip\", \"weights.zip\")\n",
    "!unzip weights.zip -d ./"
   ],
   "metadata": {
    "id": "y8Hbrw3vDHIl",
    "colab": {
     "base_uri": "https://localhost:8080/"
    },
    "outputId": "7eb50f3d-37d1-43b8-8ed9-d9cdd125a11c"
   },
   "execution_count": 4,
   "outputs": [
    {
     "output_type": "stream",
     "name": "stdout",
     "text": [
      "Drive already mounted at /content/drive; to attempt to forcibly remount, call drive.mount(\"/content/drive\", force_remount=True).\n",
      "Archive:  weights.zip\n",
      "  End-of-central-directory signature not found.  Either this file is not\n",
      "  a zipfile, or it constitutes one disk of a multi-part archive.  In the\n",
      "  latter case the central directory and zipfile comment will be found on\n",
      "  the last disk(s) of this archive.\n",
      "unzip:  cannot find zipfile directory in one of weights.zip or\n",
      "        weights.zip.zip, and cannot find weights.zip.ZIP, period.\n"
     ]
    }
   ]
  },
  {
   "cell_type": "code",
   "execution_count": null,
   "metadata": {
    "id": "P_RLfX-GzNEc"
   },
   "outputs": [],
   "source": [
    "%env nnUNet_raw=raw\n",
    "%env nnUNet_preprocessed=preprocessed\n",
    "%env nnUNet_results=weights\n",
    "!nnUNetv2_find_best_configuration 1 -c 2d"
   ]
  },
  {
   "cell_type": "code",
   "execution_count": null,
   "metadata": {
    "id": "uS44fhnY12Mc",
    "colab": {
     "base_uri": "https://localhost:8080/"
    },
    "outputId": "1907fba4-963a-4130-c154-3661ed39318d"
   },
   "outputs": [
    {
     "output_type": "stream",
     "name": "stdout",
     "text": [
      "rm: cannot remove 'imagesTs-Internal': No such file or directory\n",
      "rm: cannot remove 'imagesTs-External': No such file or directory\n"
     ]
    }
   ],
   "source": [
    "!rm -r imagesTs-Internal imagesTs-External\n",
    "!mkdir imagesTs-Internal imagesTs-External"
   ]
  },
  {
   "cell_type": "code",
   "execution_count": null,
   "metadata": {
    "id": "C2YlbOmFw9ti"
   },
   "outputs": [],
   "source": [
    "from PIL import Image\n",
    "from shutil import copy\n",
    "\n",
    "\n",
    "def remove_alpha_channel(image: Image) -> Image:\n",
    "    if image.mode == 'RGBA':\n",
    "        background = Image.new(\"RGB\", image.size, (255, 255, 255))\n",
    "        background.paste(image, mask=image.split()[3])\n",
    "        return background\n",
    "    elif image.mode == 'LA':\n",
    "        background = Image.new(\"L\", image.size, 255)\n",
    "        background.paste(image, mask=image.split()[1])\n",
    "        return background\n",
    "    else:\n",
    "        return image.convert(\"RGB\")\n",
    "\n",
    "for i in range(53):\n",
    "    tiff_image = Image.open(f\"data/imagesTs-Internal/Internal_img_{(n := str(i).zfill(3))}.tiff\")\n",
    "    tiff_image = remove_alpha_channel(tiff_image)\n",
    "    tiff_image.save(f\"imagesTs-Internal/case_{n}_0000.png\", \"PNG\")\n",
    "\n",
    "for i in range(53, 77):\n",
    "    jpg_image = Image.open(f\"data/imagesTs-Internal/Internal_img_{(n := str(i).zfill(3))}.jpg\")\n",
    "    jpg_image = remove_alpha_channel(jpg_image)\n",
    "    jpg_image.save(f\"imagesTs-Internal/case_{n}_0000.png\", \"PNG\")\n",
    "\n",
    "for i in range(32):\n",
    "    tiff_image = Image.open(f\"data/imagesTs-External/External_img_{(n := str(i).zfill(3))}.tiff\")\n",
    "    tiff_image = remove_alpha_channel(tiff_image)\n",
    "    tiff_image.save(f\"imagesTs-External/case_{n}_0000.png\", \"PNG\")\n",
    "\n",
    "for i in range(32, 60):\n",
    "    jpg_image = Image.open(f\"data/imagesTs-External/External_img_{(n := str(i).zfill(3))}.jpg\")\n",
    "    jpg_image = remove_alpha_channel(jpg_image)\n",
    "    jpg_image.save(f\"imagesTs-External/case_{n}_0000.png\", \"PNG\")\n"
   ]
  },
  {
   "metadata": {},
   "cell_type": "code",
   "outputs": [],
   "execution_count": null,
   "source": [
    "%env nnUNet_raw=raw\n",
    "%env nnUNet_preprocessed=preprocessed\n",
    "%env nnUNet_results=weights\n",
    "!nnUNetv2_predict -i imagesTs-Internal -o results-Internal -d 1 -c 2d -f all --save_probabilities"
   ]
  }
 ],
 "metadata": {
  "accelerator": "GPU",
  "colab": {
   "gpuType": "T4",
   "machine_shape": "hm",
   "provenance": [],
   "collapsed_sections": [
    "9jsSIOo7JC-g"
   ]
  },
  "kernelspec": {
   "display_name": "Python 3",
   "name": "python3"
  },
  "language_info": {
   "name": "python"
  }
 },
 "nbformat": 4,
 "nbformat_minor": 0
}
